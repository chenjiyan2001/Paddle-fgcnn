{
 "cells": [
  {
   "cell_type": "code",
   "execution_count": 1,
   "metadata": {},
   "outputs": [],
   "source": [
    "import pickle\n",
    "import numpy as np\n",
    "import torch\n",
    "import paddle\n",
    "from paddle_net import FGCNN\n",
    "from reprod_log import ReprodLogger, ReprodDiffHelper"
   ]
  },
  {
   "cell_type": "markdown",
   "metadata": {},
   "source": [
    "torch版脚本链接: https://colab.research.google.com/drive/1D5xCfWJt3qvYsHtR1ZFSxHAqzwPYdTPI?usp=sharing"
   ]
  },
  {
   "cell_type": "code",
   "execution_count": 2,
   "metadata": {},
   "outputs": [],
   "source": [
    "# load data\n",
    "pipline_data = pickle.load(open('data/pipline_data.pickle', 'rb'))\n",
    "pipline_label = pickle.load(open('data/pipline_label.pickle', 'rb'))"
   ]
  },
  {
   "cell_type": "code",
   "execution_count": 2,
   "metadata": {},
   "outputs": [
    {
     "name": "stdout",
     "output_type": "stream",
     "text": [
      "[14, 16, 18, 20]\n"
     ]
    }
   ],
   "source": [
    "# paddle\n",
    "sparse_inputs_slots = 27 - 1\n",
    "sparse_feature_size = [27, 92, 172, 157, 12, 7, 183, 19, 2, 142, 173, 170, 166, 14, 170, 168, 9, 127, 44, 4, 169, 6, 10, 125, 20, 90]\n",
    "sparse_feature_name = ['C1', 'C2', 'C3', 'C4', 'C5', 'C6', 'C7', 'C8', 'C9', 'C10', 'C11', 'C12', 'C13', 'C14', 'C15', 'C16', 'C17', 'C18', 'C19', 'C20', 'C21', 'C22', 'C23', 'C24', 'C25', 'C26']\n",
    "sparse_feature_dim = 4\n",
    "\n",
    "# sparse_inputs_slots = 14\n",
    "# sparse_feature_size = [25, 95, 3, 48, 98, 97, 66, 10, 10, 3, 6, 3, 4, 3]\n",
    "# sparse_feature_name = ['userid', 'adgroup_id', 'pid', 'cate_id', 'campaign_id', 'customer', 'brand', 'cms_segid', 'cms_group_id', 'final_gender_code', 'age_level', 'pvalue_level', 'shopping_level', 'occupation']\n",
    "\n",
    "conv_kernel_width =  [7, 7, 7, 7]\n",
    "conv_filters =  [14, 16, 18, 20]\n",
    "new_maps =  [3, 3, 3, 3]\n",
    "pooling_width =  [2, 2, 2, 2]\n",
    "stride =  [1, 1]\n",
    "dnn_hidden_units =  [128]\n",
    "dnn_dropout =  0.0\n",
    "model = FGCNN(sparse_inputs_slots, sparse_feature_size, sparse_feature_name, sparse_feature_dim, conv_kernel_width, \n",
    "                conv_filters, new_maps, pooling_width, stride, dnn_hidden_units, dnn_dropout)"
   ]
  },
  {
   "cell_type": "markdown",
   "metadata": {},
   "source": [
    "### step 1\n",
    "deepctr的dnn层默认不使用bn, 论文里使用bn. 对齐时去掉了bn, 实际训练时使用bn"
   ]
  },
  {
   "cell_type": "code",
   "execution_count": 13,
   "metadata": {},
   "outputs": [],
   "source": [
    "torch_key = \\\n",
    "    ['embedding_dict.C%d.weight' % (i+1) for i in range(26)] + \\\n",
    "    ['fg_embedding_dict.C%d.weight' % (i+1) for i in range(26)] + \\\n",
    "    ['fgcnn.conv_pooling.%d.0.weight' % i for i in range(4)] + \\\n",
    "    ['fgcnn.conv_pooling.%d.0.bias' % i for i in range(4)]\n",
    "\n",
    "torch_linearkey = \\\n",
    "    ['fgcnn.recombination.%d.0.weight' % i for i in range(4)] + \\\n",
    "    ['fgcnn.recombination.%d.0.bias' % i for i in range(4)] + \\\n",
    "    ['dnn.linears.0.weight', 'dnn.linears.0.bias', 'dnn_linear.weight', 'out.bias']\n",
    "    \n",
    "paddle_key = \\\n",
    "    ['embedding.%d.embedding.weight' % i for i in range(26)] + \\\n",
    "    ['fg_embedding.%d.embedding.weight' % i for i in range(26)] + \\\n",
    "    ['fgcnn.conv_pooling.%d.0.weight' % i for i in range(4)] + \\\n",
    "    ['fgcnn.conv_pooling.%d.0.bias' % i for i in range(4)]\n",
    "    \n",
    "paddle_linearkey = \\\n",
    "    ['fgcnn.recombination.%d.0.weight' % i for i in range(4)]  + \\\n",
    "    ['fgcnn.recombination.%d.0.bias' % i for i in range(4)]  + \\\n",
    "    ['dnn.linears.0.0.weight', 'dnn.linears.0.0.bias', 'fc_linear.weight', 'fc_linear.bias']\n",
    "\n",
    "key_map = {key_t:key_p for key_t, key_p in zip(torch_key, paddle_key)}\n",
    "torch_para = torch.load('torch_para.pth')\n",
    "paddle_para = {key_map[k]:paddle.to_tensor(v.numpy()) for k, v in torch_para.items() if k in torch_key}\n",
    "for t, p in zip(torch_linearkey, paddle_linearkey):\n",
    "    paddle_para[p] = paddle.to_tensor(torch_para[t].T.numpy())\n",
    "model.set_state_dict(paddle_para)"
   ]
  },
  {
   "cell_type": "code",
   "execution_count": 5,
   "metadata": {},
   "outputs": [],
   "source": [
    "model.eval()\n",
    "forward = []\n",
    "for data in pipline_data:\n",
    "    out = model.forward(paddle.to_tensor(data[0, :26]))\n",
    "    forward.append(out.numpy())\n",
    "reprod_logger = ReprodLogger()\n",
    "reprod_logger.add(\"logits\", np.array(forward))\n",
    "reprod_logger.save(\"step1/forward_paddle.npy\")"
   ]
  },
  {
   "cell_type": "markdown",
   "metadata": {},
   "source": [
    "### step 2"
   ]
  },
  {
   "cell_type": "code",
   "execution_count": 26,
   "metadata": {},
   "outputs": [],
   "source": [
    "cost = []\n",
    "for inputs, label in zip(pipline_data, pipline_label):\n",
    "    out = model.forward(inputs[0, :26])\n",
    "    cost.append(paddle.nn.functional.binary_cross_entropy(out, paddle.to_tensor(float(label)).reshape((1,1))).numpy()[0])\n",
    "reprod_logger = ReprodLogger()\n",
    "reprod_logger.add(\"binary_cross_entropy\", np.array(cost))\n",
    "reprod_logger.save(\"step2/metric_paddle.npy\")"
   ]
  },
  {
   "cell_type": "markdown",
   "metadata": {},
   "source": [
    "### step 3"
   ]
  },
  {
   "cell_type": "code",
   "execution_count": 52,
   "metadata": {},
   "outputs": [],
   "source": [
    "test_pred = [0.9, 0.8, 0.3, 0.1, 0.4, 0.9, 0.66, 0.7]\n",
    "test_label = [1,0,0,0,1,0,1,0]"
   ]
  },
  {
   "cell_type": "code",
   "execution_count": 53,
   "metadata": {},
   "outputs": [
    {
     "data": {
      "text/plain": [
       "0.5666666666666667"
      ]
     },
     "execution_count": 53,
     "metadata": {},
     "output_type": "execute_result"
    }
   ],
   "source": [
    "from sklearn.metrics import roc_auc_score\n",
    "roc_auc_score(test_label, test_pred)"
   ]
  },
  {
   "cell_type": "code",
   "execution_count": 60,
   "metadata": {},
   "outputs": [
    {
     "data": {
      "text/plain": [
       "0.5666666666666667"
      ]
     },
     "execution_count": 60,
     "metadata": {},
     "output_type": "execute_result"
    }
   ],
   "source": [
    "preds = []\n",
    "for pred in test_pred:\n",
    "    # pred = model.forward(inputs[0, :26])\n",
    "    pred = paddle.to_tensor(pred)\n",
    "    predict_2d = paddle.concat(x=[1 - pred, pred])\n",
    "    preds.append(predict_2d)\n",
    "auc = paddle.metric.Auc(\"ROC\")\n",
    "auc.update(preds=np.array(preds).reshape(-1, 2), labels=np.array(test_label).astype('float'))\n",
    "auc.accumulate()"
   ]
  },
  {
   "cell_type": "markdown",
   "metadata": {},
   "source": [
    "### step 4"
   ]
  },
  {
   "cell_type": "code",
   "execution_count": 19,
   "metadata": {},
   "outputs": [],
   "source": [
    "model.set_state_dict(paddle_para)\n",
    "model.train()\n",
    "optimizer = paddle.optimizer.Adam(\n",
    "            parameters=model.parameters(),\n",
    "            learning_rate=0.001)\n",
    "loss_list = []\n",
    "for inputs, label in zip(pipline_data, pipline_label):\n",
    "    optimizer.clear_grad()\n",
    "    pred = model.forward(inputs[0, :26])\n",
    "    loss = paddle.nn.functional.binary_cross_entropy(pred, paddle.to_tensor(float(label)).reshape((1,1)))\n",
    "    loss_list.append(loss.numpy())\n",
    "    loss.backward()\n",
    "    optimizer.step()\n",
    "reprod_logger = ReprodLogger()\n",
    "for i in range(len(loss_list)):\n",
    "    reprod_logger.add(\"loss_%d\" % i,loss_list[i])\n",
    "reprod_logger.save(\"step4/bp_align_paddle.npy\")"
   ]
  },
  {
   "cell_type": "markdown",
   "metadata": {},
   "source": [
    "### step 5"
   ]
  },
  {
   "cell_type": "code",
   "execution_count": 30,
   "metadata": {},
   "outputs": [],
   "source": [
    "model.set_state_dict(paddle_para)\n",
    "model.train()\n",
    "optimizer = paddle.optimizer.Adam(\n",
    "            parameters=model.parameters(),\n",
    "            learning_rate=0.001)\n",
    "loss_list = []\n",
    "for epoch in range(2):\n",
    "    for inputs, label in zip(pipline_data, pipline_label):\n",
    "        optimizer.clear_grad()\n",
    "        pred = model.forward(inputs[0, :26])\n",
    "        loss = paddle.nn.functional.binary_cross_entropy(pred, paddle.to_tensor(float(label)).reshape((1,1)))\n",
    "        loss_list.append(loss.numpy()[0])\n",
    "        loss.backward()\n",
    "        optimizer.step()\n",
    "reprod_logger = ReprodLogger()\n",
    "reprod_logger.add(\"train\", np.array(loss_list))\n",
    "reprod_logger.save(\"step5/train_paddle.npy\")"
   ]
  },
  {
   "cell_type": "markdown",
   "metadata": {},
   "source": [
    "### check diff"
   ]
  },
  {
   "cell_type": "code",
   "execution_count": 7,
   "metadata": {},
   "outputs": [
    {
     "name": "stdout",
     "output_type": "stream",
     "text": [
      "[2021/12/26 19:14:53] root INFO: logits: \n",
      "[2021/12/26 19:14:53] root INFO: \tmean diff: check passed: True, value: 0.0\n",
      "[2021/12/26 19:14:53] root INFO: diff check passed\n"
     ]
    }
   ],
   "source": [
    "# step1\n",
    "diff_helper = ReprodDiffHelper()\n",
    "torch_info = diff_helper.load_info(\"step1/forward_torch.npy\")\n",
    "paddle_info = diff_helper.load_info(\"step1/forward_paddle.npy\")\n",
    "\n",
    "diff_helper.compare_info(torch_info, paddle_info)\n",
    "\n",
    "diff_helper.report(path=\"diff/forward_diff.log\")"
   ]
  },
  {
   "cell_type": "code",
   "execution_count": 5,
   "metadata": {},
   "outputs": [
    {
     "name": "stdout",
     "output_type": "stream",
     "text": [
      "[2021/12/26 20:30:59] root INFO: binary_cross_entropy: \n",
      "[2021/12/26 20:30:59] root INFO: \tmean diff: check passed: True, value: 0.0\n",
      "[2021/12/26 20:30:59] root INFO: diff check passed\n"
     ]
    }
   ],
   "source": [
    "# step 2\n",
    "diff_helper = ReprodDiffHelper()\n",
    "torch_info = diff_helper.load_info(\"step2/metric_torch.npy\")\n",
    "paddle_info = diff_helper.load_info(\"step2/metric_paddle.npy\")\n",
    "\n",
    "diff_helper.compare_info(torch_info, paddle_info)\n",
    "\n",
    "diff_helper.report(path=\"diff/metric_diff.log\")"
   ]
  },
  {
   "cell_type": "code",
   "execution_count": 56,
   "metadata": {},
   "outputs": [],
   "source": [
    "# step 3"
   ]
  },
  {
   "cell_type": "code",
   "execution_count": 4,
   "metadata": {},
   "outputs": [
    {
     "name": "stdout",
     "output_type": "stream",
     "text": [
      "[2021/12/27 19:39:09] root INFO: loss_0: \n",
      "[2021/12/27 19:39:09] root INFO: \tmean diff: check passed: True, value: 0.0\n",
      "[2021/12/27 19:39:09] root INFO: loss_1: \n",
      "[2021/12/27 19:39:09] root INFO: \tmean diff: check passed: False, value: 1.7881393432617188e-06\n",
      "[2021/12/27 19:39:09] root INFO: loss_2: \n",
      "[2021/12/27 19:39:09] root INFO: \tmean diff: check passed: False, value: 1.8864870071411133e-05\n",
      "[2021/12/27 19:39:09] root INFO: loss_3: \n",
      "[2021/12/27 19:39:09] root INFO: \tmean diff: check passed: False, value: 3.838539123535156e-05\n",
      "[2021/12/27 19:39:09] root INFO: loss_4: \n",
      "[2021/12/27 19:39:09] root INFO: \tmean diff: check passed: False, value: 2.6181340217590332e-05\n",
      "[2021/12/27 19:39:09] root INFO: loss_5: \n",
      "[2021/12/27 19:39:09] root INFO: \tmean diff: check passed: False, value: 0.0007915496826171875\n",
      "[2021/12/27 19:39:09] root INFO: loss_6: \n",
      "[2021/12/27 19:39:09] root INFO: \tmean diff: check passed: False, value: 2.024136483669281e-05\n",
      "[2021/12/27 19:39:09] root INFO: loss_7: \n",
      "[2021/12/27 19:39:09] root INFO: \tmean diff: check passed: False, value: 0.00038313865661621094\n",
      "[2021/12/27 19:39:09] root INFO: loss_8: \n",
      "[2021/12/27 19:39:09] root INFO: \tmean diff: check passed: False, value: 6.16610050201416e-05\n",
      "[2021/12/27 19:39:09] root INFO: loss_9: \n",
      "[2021/12/27 19:39:09] root INFO: \tmean diff: check passed: False, value: 0.0003396272659301758\n",
      "[2021/12/27 19:39:09] root INFO: loss_10: \n",
      "[2021/12/27 19:39:09] root INFO: \tmean diff: check passed: False, value: 1.633167266845703e-05\n",
      "[2021/12/27 19:39:09] root INFO: loss_11: \n",
      "[2021/12/27 19:39:09] root INFO: \tmean diff: check passed: False, value: 3.191828727722168e-05\n",
      "[2021/12/27 19:39:09] root INFO: loss_12: \n",
      "[2021/12/27 19:39:09] root INFO: \tmean diff: check passed: False, value: 4.875659942626953e-05\n",
      "[2021/12/27 19:39:09] root INFO: loss_13: \n",
      "[2021/12/27 19:39:09] root INFO: \tmean diff: check passed: False, value: 9.930133819580078e-05\n",
      "[2021/12/27 19:39:09] root INFO: loss_14: \n",
      "[2021/12/27 19:39:09] root INFO: \tmean diff: check passed: False, value: 4.2378902435302734e-05\n",
      "[2021/12/27 19:39:09] root INFO: loss_15: \n",
      "[2021/12/27 19:39:09] root INFO: \tmean diff: check passed: False, value: 2.1517276763916016e-05\n",
      "[2021/12/27 19:39:09] root INFO: loss_16: \n",
      "[2021/12/27 19:39:09] root INFO: \tmean diff: check passed: False, value: 4.124641418457031e-05\n",
      "[2021/12/27 19:39:09] root INFO: loss_17: \n",
      "[2021/12/27 19:39:09] root INFO: \tmean diff: check passed: False, value: 0.00010710954666137695\n",
      "[2021/12/27 19:39:09] root INFO: loss_18: \n",
      "[2021/12/27 19:39:09] root INFO: \tmean diff: check passed: False, value: 5.5670738220214844e-05\n",
      "[2021/12/27 19:39:09] root INFO: loss_19: \n",
      "[2021/12/27 19:39:09] root INFO: \tmean diff: check passed: False, value: 0.00013172626495361328\n",
      "[2021/12/27 19:39:09] root INFO: loss_20: \n",
      "[2021/12/27 19:39:09] root INFO: \tmean diff: check passed: False, value: 0.00013828277587890625\n",
      "[2021/12/27 19:39:09] root INFO: loss_21: \n",
      "[2021/12/27 19:39:09] root INFO: \tmean diff: check passed: False, value: 0.0002250075340270996\n",
      "[2021/12/27 19:39:09] root INFO: loss_22: \n",
      "[2021/12/27 19:39:09] root INFO: \tmean diff: check passed: False, value: 0.00018209218978881836\n",
      "[2021/12/27 19:39:09] root INFO: loss_23: \n",
      "[2021/12/27 19:39:09] root INFO: \tmean diff: check passed: False, value: 0.00014328956604003906\n",
      "[2021/12/27 19:39:09] root INFO: loss_24: \n",
      "[2021/12/27 19:39:09] root INFO: \tmean diff: check passed: False, value: 8.761882781982422e-05\n",
      "[2021/12/27 19:39:09] root INFO: loss_25: \n",
      "[2021/12/27 19:39:09] root INFO: \tmean diff: check passed: False, value: 0.0002722740173339844\n",
      "[2021/12/27 19:39:09] root INFO: loss_26: \n",
      "[2021/12/27 19:39:09] root INFO: \tmean diff: check passed: False, value: 6.35981559753418e-05\n",
      "[2021/12/27 19:39:09] root INFO: loss_27: \n",
      "[2021/12/27 19:39:09] root INFO: \tmean diff: check passed: False, value: 0.00019186735153198242\n",
      "[2021/12/27 19:39:09] root INFO: loss_28: \n",
      "[2021/12/27 19:39:09] root INFO: \tmean diff: check passed: False, value: 0.0003249645233154297\n",
      "[2021/12/27 19:39:09] root INFO: loss_29: \n",
      "[2021/12/27 19:39:09] root INFO: \tmean diff: check passed: False, value: 1.4066696166992188e-05\n",
      "[2021/12/27 19:39:09] root INFO: loss_30: \n",
      "[2021/12/27 19:39:09] root INFO: \tmean diff: check passed: False, value: 0.000287473201751709\n",
      "[2021/12/27 19:39:09] root INFO: loss_31: \n",
      "[2021/12/27 19:39:09] root INFO: \tmean diff: check passed: False, value: 0.00023537874221801758\n",
      "[2021/12/27 19:39:09] root INFO: loss_32: \n",
      "[2021/12/27 19:39:09] root INFO: \tmean diff: check passed: False, value: 2.0384788513183594e-05\n",
      "[2021/12/27 19:39:09] root INFO: loss_33: \n",
      "[2021/12/27 19:39:09] root INFO: \tmean diff: check passed: False, value: 8.761882781982422e-05\n",
      "[2021/12/27 19:39:09] root INFO: loss_34: \n",
      "[2021/12/27 19:39:09] root INFO: \tmean diff: check passed: False, value: 0.00020486116409301758\n",
      "[2021/12/27 19:39:09] root INFO: loss_35: \n",
      "[2021/12/27 19:39:09] root INFO: \tmean diff: check passed: False, value: 0.000152587890625\n",
      "[2021/12/27 19:39:09] root INFO: loss_36: \n",
      "[2021/12/27 19:39:09] root INFO: \tmean diff: check passed: False, value: 4.023313522338867e-05\n",
      "[2021/12/27 19:39:09] root INFO: loss_37: \n",
      "[2021/12/27 19:39:09] root INFO: \tmean diff: check passed: False, value: 6.526708602905273e-05\n",
      "[2021/12/27 19:39:09] root INFO: loss_38: \n",
      "[2021/12/27 19:39:09] root INFO: \tmean diff: check passed: False, value: 5.7816505432128906e-05\n",
      "[2021/12/27 19:39:09] root INFO: loss_39: \n",
      "[2021/12/27 19:39:09] root INFO: \tmean diff: check passed: False, value: 0.00016570091247558594\n",
      "[2021/12/27 19:39:09] root INFO: loss_40: \n",
      "[2021/12/27 19:39:09] root INFO: \tmean diff: check passed: False, value: 1.9669532775878906e-05\n",
      "[2021/12/27 19:39:09] root INFO: loss_41: \n",
      "[2021/12/27 19:39:09] root INFO: \tmean diff: check passed: False, value: 0.00011408329010009766\n",
      "[2021/12/27 19:39:09] root INFO: loss_42: \n",
      "[2021/12/27 19:39:09] root INFO: \tmean diff: check passed: False, value: 3.94284725189209e-05\n",
      "[2021/12/27 19:39:09] root INFO: loss_43: \n",
      "[2021/12/27 19:39:09] root INFO: \tmean diff: check passed: False, value: 0.0001939237117767334\n",
      "[2021/12/27 19:39:09] root INFO: loss_44: \n",
      "[2021/12/27 19:39:09] root INFO: \tmean diff: check passed: False, value: 0.0001850724220275879\n",
      "[2021/12/27 19:39:09] root INFO: loss_45: \n",
      "[2021/12/27 19:39:09] root INFO: \tmean diff: check passed: False, value: 0.00014331936836242676\n",
      "[2021/12/27 19:39:09] root INFO: loss_46: \n",
      "[2021/12/27 19:39:09] root INFO: \tmean diff: check passed: False, value: 0.00018990039825439453\n",
      "[2021/12/27 19:39:09] root INFO: loss_47: \n",
      "[2021/12/27 19:39:09] root INFO: \tmean diff: check passed: False, value: 7.209181785583496e-05\n",
      "[2021/12/27 19:39:09] root INFO: loss_48: \n",
      "[2021/12/27 19:39:09] root INFO: \tmean diff: check passed: False, value: 0.00012171268463134766\n",
      "[2021/12/27 19:39:09] root INFO: loss_49: \n",
      "[2021/12/27 19:39:09] root INFO: \tmean diff: check passed: False, value: 0.0003896951675415039\n",
      "[2021/12/27 19:39:09] root INFO: diff check failed\n",
      "误差: 0.003714%\n"
     ]
    }
   ],
   "source": [
    "# step 4\n",
    "diff_helper = ReprodDiffHelper()\n",
    "torch_info = diff_helper.load_info(\"step4/bp_align_torch.npy\")\n",
    "paddle_info = diff_helper.load_info(\"step4/bp_align_paddle.npy\")\n",
    "\n",
    "diff_helper.compare_info(torch_info, paddle_info)\n",
    "\n",
    "diff_helper.report(path=\"diff/bp_align_diff.log\")\n",
    "print('误差: %.6f' % (0.000389695 / 1.0492053 * 10) + '%')"
   ]
  },
  {
   "cell_type": "code",
   "execution_count": 3,
   "metadata": {},
   "outputs": [
    {
     "name": "stdout",
     "output_type": "stream",
     "text": [
      "[2021/12/27 19:39:26] root INFO: train: \n",
      "[2021/12/27 19:39:26] root INFO: \tmean diff: check passed: False, value: 0.00037922762567177415\n",
      "[2021/12/27 19:39:26] root INFO: diff check failed\n",
      "误差: 0.004336%\n"
     ]
    }
   ],
   "source": [
    "# step 5\n",
    "diff_helper = ReprodDiffHelper()\n",
    "torch_info = diff_helper.load_info(\"step5/train_torch.npy\")\n",
    "paddle_info = diff_helper.load_info(\"step5/train_paddle.npy\")\n",
    "\n",
    "diff_helper.compare_info(torch_info, paddle_info)\n",
    "\n",
    "diff_helper.report(path=\"diff/loss_diff.log\")\n",
    "print('误差: %.6f' % (0.0003 / 0.69180256 * 10) + '%')"
   ]
  },
  {
   "cell_type": "code",
   "execution_count": null,
   "metadata": {},
   "outputs": [
    {
     "ename": "",
     "evalue": "",
     "output_type": "error",
     "traceback": [
      "\u001b[1;31mPython 3.6.8 64-bit ('fuxictr_env': conda) 需要安装 ipykernel。\n",
      "Run the following command to install 'ipykernel' into the Python environment. \n",
      "Command: 'conda install -n fuxictr_env ipykernel --update-deps --force-reinstall'"
     ]
    }
   ],
   "source": [
    "import fuxictr # python 3.6.*"
   ]
  },
  {
   "cell_type": "code",
   "execution_count": null,
   "metadata": {},
   "outputs": [],
   "source": []
  }
 ],
 "metadata": {
  "interpreter": {
   "hash": "a8f61be024eba58adef938c9aa1e29e02cb3dece83a5348b1a2dafd16a070453"
  },
  "kernelspec": {
   "display_name": "Python 3.8.10 64-bit ('base': conda)",
   "language": "python",
   "name": "python3"
  },
  "language_info": {
   "codemirror_mode": {
    "name": "ipython",
    "version": 3
   },
   "file_extension": ".py",
   "mimetype": "text/x-python",
   "name": "python",
   "nbconvert_exporter": "python",
   "pygments_lexer": "ipython3",
   "version": "3.6.8"
  },
  "orig_nbformat": 4
 },
 "nbformat": 4,
 "nbformat_minor": 2
}
